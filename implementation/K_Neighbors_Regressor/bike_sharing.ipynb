{
 "cells": [
  {
   "cell_type": "code",
   "execution_count": 48,
   "metadata": {},
   "outputs": [],
   "source": [
    "import numpy as np\n",
    "\n",
    "import pandas as pd"
   ]
  },
  {
   "cell_type": "code",
   "execution_count": 49,
   "metadata": {},
   "outputs": [],
   "source": [
    "bike_df = pd.read_csv('train.csv')\n",
    "\n",
    "#bike_df"
   ]
  },
  {
   "cell_type": "code",
   "execution_count": 50,
   "metadata": {},
   "outputs": [],
   "source": [
    "feature_cols = ['datetime', 'season', 'holiday', 'workingday', 'weather', 'temp', 'atemp', 'humidity', 'windspeed', 'casual', 'registered']"
   ]
  },
  {
   "cell_type": "code",
   "execution_count": 51,
   "metadata": {},
   "outputs": [],
   "source": [
    "X = bike_df[feature_cols]\n",
    "\n",
    "y = bike_df['count']\n",
    "\n"
   ]
  },
  {
   "cell_type": "code",
   "execution_count": 52,
   "metadata": {},
   "outputs": [],
   "source": [
    "from datetime import datetime, time, date"
   ]
  },
  {
   "cell_type": "code",
   "execution_count": 53,
   "metadata": {},
   "outputs": [],
   "source": [
    "\n",
    "\n",
    "bike_df['hour'] = bike_df.datetime.apply(lambda x : x.split()[1].split(':')[0])\n",
    "\n",
    "bike_df['day_of_year'] = bike_df.datetime.apply(lambda x : datetime.strptime(x, '%Y-%m-%d %H:00:00').strftime('%j'))\n",
    "\n",
    "bike_df['weekday']= bike_df.datetime.apply(lambda x : datetime.strptime(x,  '%Y-%m-%d %H:00:00').strftime('%w'))"
   ]
  },
  {
   "cell_type": "code",
   "execution_count": 54,
   "metadata": {},
   "outputs": [],
   "source": [
    "from sklearn.model_selection import train_test_split"
   ]
  },
  {
   "cell_type": "code",
   "execution_count": null,
   "metadata": {},
   "outputs": [],
   "source": []
  },
  {
   "cell_type": "code",
   "execution_count": 55,
   "metadata": {},
   "outputs": [],
   "source": [
    "from sklearn.preprocessing import LabelEncoder"
   ]
  },
  {
   "cell_type": "code",
   "execution_count": 56,
   "metadata": {},
   "outputs": [],
   "source": [
    "season = LabelEncoder()\n",
    "weather = LabelEncoder()\n",
    "\n",
    "\n",
    "bike_df['season'] = season.fit_transform(bike_df.season)\n",
    "bike_df['weather'] = weather.fit_transform(bike_df.weather)"
   ]
  },
  {
   "cell_type": "code",
   "execution_count": 57,
   "metadata": {},
   "outputs": [],
   "source": [
    "from sklearn.preprocessing import OneHotEncoder"
   ]
  },
  {
   "cell_type": "code",
   "execution_count": 58,
   "metadata": {},
   "outputs": [],
   "source": [
    "season_ohe = OneHotEncoder()\n",
    "weather_ohe = OneHotEncoder()\n",
    "\n",
    "Xs = season_ohe.fit_transform(bike_df.season.values.reshape(-1,1)).toarray()\n",
    "Xw = weather_ohe.fit_transform(bike_df.weather.values.reshape(-1,1)).toarray()"
   ]
  },
  {
   "cell_type": "code",
   "execution_count": 59,
   "metadata": {},
   "outputs": [],
   "source": [
    "bike_dfOneHot = pd.DataFrame(Xs, columns = [\"season\"+str(int(i)) for i in range(Xs.shape[1])])\n",
    "bike_df = pd.concat([bike_df, bike_dfOneHot], axis=1)\n",
    "\n",
    "bike_dfOneHot = pd.DataFrame(Xw, columns = [\"weather\"+str(int(i)) for i in range(Xw.shape[1])])\n",
    "bike_df = pd.concat([bike_df, bike_dfOneHot], axis=1)"
   ]
  },
  {
   "cell_type": "code",
   "execution_count": 60,
   "metadata": {},
   "outputs": [
    {
     "data": {
      "text/plain": [
       "Index(['datetime', 'season', 'holiday', 'workingday', 'weather', 'temp',\n",
       "       'atemp', 'humidity', 'windspeed', 'casual', 'registered', 'count',\n",
       "       'hour', 'day_of_year', 'weekday', 'season0', 'season1', 'season2',\n",
       "       'season3', 'weather0', 'weather1', 'weather2', 'weather3'],\n",
       "      dtype='object')"
      ]
     },
     "execution_count": 60,
     "metadata": {},
     "output_type": "execute_result"
    }
   ],
   "source": [
    "bike_df.columns"
   ]
  },
  {
   "cell_type": "code",
   "execution_count": 61,
   "metadata": {},
   "outputs": [],
   "source": [
    "#Ignore categorical columns. Recognize one hot encoded columns\n",
    "#Remove casual & registered columns\n",
    "#Drop datetime column"
   ]
  },
  {
   "cell_type": "code",
   "execution_count": 62,
   "metadata": {},
   "outputs": [
    {
     "data": {
      "text/plain": [
       "['holiday',\n",
       " 'workingday',\n",
       " 'temp',\n",
       " 'atemp',\n",
       " 'humidity',\n",
       " 'windspeed',\n",
       " 'hour',\n",
       " 'day_of_year',\n",
       " 'weekday',\n",
       " 'season0',\n",
       " 'season1',\n",
       " 'season2',\n",
       " 'season3',\n",
       " 'weather0',\n",
       " 'weather1',\n",
       " 'weather2',\n",
       " 'weather3']"
      ]
     },
     "execution_count": 62,
     "metadata": {},
     "output_type": "execute_result"
    }
   ],
   "source": [
    "feature_cols_ohe = ['holiday', 'workingday', 'temp', 'atemp', 'humidity', 'windspeed', 'hour', 'day_of_year', 'weekday', 'season0', 'season1', 'season2', 'season3', 'weather0', 'weather1', 'weather2', 'weather3']\n",
    "\n",
    "fl = len(feature_cols_ohe)\n",
    "\n",
    "X_ohe = bike_df[feature_cols_ohe]\n",
    "\n",
    "X_ohe = pd.DataFrame(X_ohe)\n",
    "\n",
    "feature_cols_ohe"
   ]
  },
  {
   "cell_type": "code",
   "execution_count": 63,
   "metadata": {},
   "outputs": [],
   "source": [
    "#hour bins\n",
    "#X_ohe[0::1000]"
   ]
  },
  {
   "cell_type": "code",
   "execution_count": 64,
   "metadata": {},
   "outputs": [
    {
     "data": {
      "text/plain": [
       "array([1, 2, 3, 4], dtype=int64)"
      ]
     },
     "execution_count": 64,
     "metadata": {},
     "output_type": "execute_result"
    }
   ],
   "source": [
    "def hour_bins(hour): \n",
    "    hour = int(hour)\n",
    "    if 0 <= hour <= 5: \n",
    "        return 1\n",
    "    elif 6 <= hour <= 11:\n",
    "        return 2\n",
    "    elif 12 <= hour <= 17:\n",
    "        return 3\n",
    "    else: \n",
    "        return 4\n",
    "X_ohe['hour'] = X_ohe['hour'].apply(lambda x : hour_bins(x))\n",
    "#X_ohe[0::1000]\n",
    "X_ohe.hour.unique()\n"
   ]
  },
  {
   "cell_type": "code",
   "execution_count": 65,
   "metadata": {},
   "outputs": [],
   "source": [
    "#one hot encode hour now\n",
    "hr = LabelEncoder()\n",
    "\n",
    "X_ohe['hour'] = hr.fit_transform(X_ohe.hour)\n",
    "\n",
    "hr_ohe = OneHotEncoder()\n",
    "\n",
    "Xh = hr_ohe.fit_transform(X_ohe.hour.values.reshape(-1,1)).toarray()\n",
    "\n",
    "\n",
    "X_OneHot = pd.DataFrame(Xh, columns = [\"hour\"+str(int(i)) for i in range(Xh.shape[1])])\n",
    "X_ohe = pd.concat([X_ohe, X_OneHot], axis=1)"
   ]
  },
  {
   "cell_type": "code",
   "execution_count": 66,
   "metadata": {},
   "outputs": [
    {
     "data": {
      "text/plain": [
       "Index(['holiday', 'workingday', 'temp', 'atemp', 'humidity', 'windspeed',\n",
       "       'hour', 'day_of_year', 'weekday', 'season0', 'season1', 'season2',\n",
       "       'season3', 'weather0', 'weather1', 'weather2', 'weather3', 'hour0',\n",
       "       'hour1', 'hour2', 'hour3'],\n",
       "      dtype='object')"
      ]
     },
     "execution_count": 66,
     "metadata": {},
     "output_type": "execute_result"
    }
   ],
   "source": [
    "#ignore hour and recognize new columns\n",
    "X_ohe.columns"
   ]
  },
  {
   "cell_type": "code",
   "execution_count": 67,
   "metadata": {},
   "outputs": [
    {
     "name": "stdout",
     "output_type": "stream",
     "text": [
      "20\n"
     ]
    }
   ],
   "source": [
    "feat_minus_hr = ['holiday', 'workingday', 'temp', 'atemp', 'humidity', 'windspeed', 'day_of_year', 'weekday', 'season0', 'season1', 'season2',\n",
    "       'season3', 'weather0', 'weather1', 'weather2', 'weather3', 'hour0',\n",
    "       'hour1', 'hour2', 'hour3']\n",
    "\n",
    "fl = len(feat_minus_hr)\n",
    "\n",
    "X_ohe = X_ohe[feat_minus_hr]\n",
    "\n",
    "X_ohe = pd.DataFrame(X_ohe)\n",
    "\n",
    "print(fl)"
   ]
  },
  {
   "cell_type": "code",
   "execution_count": 69,
   "metadata": {},
   "outputs": [],
   "source": [
    "#Normalize features"
   ]
  },
  {
   "cell_type": "code",
   "execution_count": 72,
   "metadata": {},
   "outputs": [
    {
     "data": {
      "text/plain": [
       "Index(['holiday', 'workingday', 'temp', 'atemp', 'humidity', 'windspeed',\n",
       "       'day_of_year', 'weekday', 'season0', 'season1', 'season2', 'season3',\n",
       "       'weather0', 'weather1', 'weather2', 'weather3', 'hour0', 'hour1',\n",
       "       'hour2', 'hour3'],\n",
       "      dtype='object')"
      ]
     },
     "execution_count": 72,
     "metadata": {},
     "output_type": "execute_result"
    }
   ],
   "source": [
    "from sklearn import preprocessing\n",
    "\n",
    "features_numpyarray = preprocessing.scale(X_ohe)\n",
    "\n",
    "X_ohe = pd.DataFrame(features_numpyarray, columns = X_ohe.columns)\n",
    "\n",
    "#X_ohe.head()\n",
    "X_ohe.columns"
   ]
  },
  {
   "cell_type": "code",
   "execution_count": 24,
   "metadata": {},
   "outputs": [],
   "source": [
    "#X_ohe['humidity'] = X_ohe['humidity'].apply(lambda y : y/max(X_ohe.humidity)*100)\n",
    "#X_ohe.humidity\n",
    "#X_ohe.temp\n",
    "#X_ohe['temp'] = X_ohe['temp'].apply(lambda y : y/max(X_ohe.temp)*100)\n",
    "#X_ohe.atemp\n",
    "#X_ohe['atemp'] = X_ohe['atemp'].apply(lambda y : y/max(X_ohe.atemp)*100)\n",
    "#X_ohe.windspeed\n",
    "#X_ohe['windspeed'] = X_ohe['windspeed'].apply(lambda y : y/max(X_ohe.windspeed)*100)\n",
    "#X_ohe.casual\n",
    "#X_ohe['casual'] = X_ohe['casual'].apply(lambda y : y/max(X_ohe.casual)*100)\n",
    "#X_ohe.registered\n",
    "#X_ohe['registered'] = X_ohe['registered'].apply(lambda y : y/max(X_ohe.registered)*100)"
   ]
  },
  {
   "cell_type": "code",
   "execution_count": 25,
   "metadata": {},
   "outputs": [
    {
     "data": {
      "text/plain": [
       "191.57413191254824"
      ]
     },
     "execution_count": 25,
     "metadata": {},
     "output_type": "execute_result"
    }
   ],
   "source": [
    "#PCA to reduce number of features or other feature selection search in sklearn!!\n",
    "#do predictive models by month or each season will have 12 predictive models\n",
    "\n",
    "\n",
    "\n",
    "bike_df['count'].mean()\n"
   ]
  },
  {
   "cell_type": "code",
   "execution_count": 26,
   "metadata": {},
   "outputs": [],
   "source": [
    "from sklearn import neighbors\n",
    "from sklearn.metrics import mean_squared_error \n",
    "from math import sqrt"
   ]
  },
  {
   "cell_type": "code",
   "execution_count": 27,
   "metadata": {},
   "outputs": [],
   "source": [
    "#KNN REGRESSOR ALGORITHM ATTRIBUTE FEATURE IMPORTANCE\n",
    "#Check accuracy using rmse\n",
    "\n",
    "X_train, X_test, y_train, y_test = train_test_split(X_ohe, y, test_size = 0.25, random_state = 4)"
   ]
  },
  {
   "cell_type": "code",
   "execution_count": 28,
   "metadata": {},
   "outputs": [
    {
     "name": "stdout",
     "output_type": "stream",
     "text": [
      "RMSE value for k=  1 is: 145.97666970097484\n",
      "RMSE value for k=  2 is: 134.52245489390728\n",
      "RMSE value for k=  3 is: 130.84265727714316\n",
      "RMSE value for k=  4 is: 127.8847480003936\n",
      "RMSE value for k=  5 is: 125.91463875481406\n",
      "RMSE value for k=  6 is: 124.89607689138602\n",
      "RMSE value for k=  7 is: 124.44936312318399\n",
      "RMSE value for k=  8 is: 124.42746162251693\n",
      "RMSE value for k=  9 is: 125.00139954405597\n",
      "RMSE value for k=  10 is: 124.78515265858535\n",
      "RMSE value for k=  11 is: 124.82075346667804\n",
      "RMSE value for k=  12 is: 124.76951787770936\n",
      "RMSE value for k=  13 is: 124.77319490472547\n",
      "RMSE value for k=  14 is: 124.6653250141458\n",
      "RMSE value for k=  15 is: 124.47591480278047\n",
      "RMSE value for k=  16 is: 124.46472966018632\n",
      "RMSE value for k=  17 is: 124.64690980443352\n",
      "RMSE value for k=  18 is: 125.00447936477521\n",
      "RMSE value for k=  19 is: 125.3044104638769\n",
      "RMSE value for k=  20 is: 125.41434025408196\n"
     ]
    }
   ],
   "source": [
    "rmse_val = [] #to store rmse values for different k\n",
    "for K in range(20):\n",
    "    K = K+1\n",
    "    model = neighbors.KNeighborsRegressor(n_neighbors = K)\n",
    "\n",
    "    model.fit(X_train, y_train)  #fit the model\n",
    "    pred=model.predict(X_test) #make prediction on test set\n",
    "    error = sqrt(mean_squared_error(y_test,pred)) #calculate rmse\n",
    "    rmse_val.append(error) #store rmse values\n",
    "    print('RMSE value for k= ' , K , 'is:', error)\n"
   ]
  },
  {
   "cell_type": "code",
   "execution_count": 29,
   "metadata": {},
   "outputs": [],
   "source": [
    "import matplotlib.pyplot as plt\n",
    "%matplotlib inline"
   ]
  },
  {
   "cell_type": "code",
   "execution_count": 30,
   "metadata": {},
   "outputs": [
    {
     "data": {
      "text/plain": [
       "<function matplotlib.pyplot.show(*args, **kw)>"
      ]
     },
     "execution_count": 30,
     "metadata": {},
     "output_type": "execute_result"
    },
    {
     "data": {
      "text/plain": [
       "<Figure size 432x288 with 0 Axes>"
      ]
     },
     "metadata": {},
     "output_type": "display_data"
    },
    {
     "data": {
      "image/png": "[encoded data removed]",
      "text/plain": [
       "<Figure size 432x288 with 1 Axes>"
      ]
     },
     "metadata": {},
     "output_type": "display_data"
    }
   ],
   "source": [
    "plt.figure()\n",
    "\n",
    "ax = plt.figure().add_subplot(111)\n",
    "\n",
    "plt.plot(rmse_val, color = 'blue', lw=2, label = 'RMSE Value')\n",
    "\n",
    "plt.xlim([0, 19])\n",
    "plt.ylim([120, 150])\n",
    "\n",
    "#x = np.array([1,2,3,4,5,6,7,8,9,10,11,12,13,14,15,16,17,18,19])\n",
    "my_xticks = [1,2,3,4,5,6,7,8,9,10,11,12,13,14,15,16,17,18,19]\n",
    "#plt.xticks(x, my_xticks)\n",
    "\n",
    "\n",
    "\n",
    "plt.xlabel('Value of K')\n",
    "plt.ylabel('RMSE Value')\n",
    "plt.title('Root Mean Square Error for Different K')\n",
    "plt.legend(loc=\"lower right\")\n",
    "\n",
    "plt.show"
   ]
  },
  {
   "cell_type": "markdown",
   "metadata": {},
   "source": [
    "Best value for k is 8 therefore we will use k = 8 for the prediction."
   ]
  },
  {
   "cell_type": "code",
   "execution_count": 31,
   "metadata": {},
   "outputs": [
    {
     "data": {
      "text/plain": [
       "KNeighborsRegressor(algorithm='auto', leaf_size=30, metric='minkowski',\n",
       "          metric_params=None, n_jobs=1, n_neighbors=8, p=2,\n",
       "          weights='uniform')"
      ]
     },
     "execution_count": 31,
     "metadata": {},
     "output_type": "execute_result"
    }
   ],
   "source": [
    "k = 8\n",
    "\n",
    "knn = neighbors.KNeighborsRegressor(n_neighbors = k)\n",
    "\n",
    "knn.fit(X_train, y_train)"
   ]
  },
  {
   "cell_type": "code",
   "execution_count": 32,
   "metadata": {},
   "outputs": [],
   "source": [
    "y_predict = knn.predict(X_test)"
   ]
  },
  {
   "cell_type": "code",
   "execution_count": 33,
   "metadata": {
    "scrolled": true
   },
   "outputs": [
    {
     "name": "stdout",
     "output_type": "stream",
     "text": [
      "124.42746162251693\n"
     ]
    }
   ],
   "source": [
    "from sklearn import metrics\n",
    "import numpy as np\n",
    "\n",
    "# Calculating \"Mean Square Error\" (MSE):\n",
    "mse = metrics.mean_squared_error(y_test, y_predict)\n",
    "\n",
    "# Using numpy sqrt function to take the square root and calculate \"Root Mean Square Error\" (RMSE)\n",
    "rmse = np.sqrt(mse)\n",
    "\n",
    "print(rmse)"
   ]
  },
  {
   "cell_type": "code",
   "execution_count": 34,
   "metadata": {},
   "outputs": [],
   "source": [
    "def rmsle(y, y_):\n",
    "    log1 = np.nan_to_num(np.array([np.log(v + 1) for v in y]))\n",
    "    log2 = np.nan_to_num(np.array([np.log(v + 1) for v in y_]))\n",
    "    calc = (log1 - log2) ** 2\n",
    "    return np.sqrt(np.mean(calc))"
   ]
  },
  {
   "cell_type": "code",
   "execution_count": 35,
   "metadata": {},
   "outputs": [
    {
     "name": "stdout",
     "output_type": "stream",
     "text": [
      "0.7831881136426423\n"
     ]
    }
   ],
   "source": [
    "#Kaggle recommended measuring accuracy using rmsle\n",
    "\n",
    "rmsle = rmsle(y_test, y_predict)\n",
    "\n",
    "print(rmsle)"
   ]
  },
  {
   "cell_type": "markdown",
   "metadata": {},
   "source": [
    "Now trying XGBoost Algorithm"
   ]
  },
  {
   "cell_type": "code",
   "execution_count": 33,
   "metadata": {},
   "outputs": [],
   "source": [
    "from xgboost import XGBRegressor"
   ]
  },
  {
   "cell_type": "code",
   "execution_count": 34,
   "metadata": {},
   "outputs": [],
   "source": [
    "clf = XGBRegressor()"
   ]
  },
  {
   "cell_type": "code",
   "execution_count": 35,
   "metadata": {},
   "outputs": [
    {
     "data": {
      "text/plain": [
       "XGBRegressor(base_score=0.5, booster='gbtree', colsample_bylevel=1,\n",
       "       colsample_bytree=1, gamma=0, learning_rate=0.1, max_delta_step=0,\n",
       "       max_depth=3, min_child_weight=1, missing=None, n_estimators=100,\n",
       "       n_jobs=1, nthread=None, objective='reg:linear', random_state=0,\n",
       "       reg_alpha=0, reg_lambda=1, scale_pos_weight=1, seed=None,\n",
       "       silent=True, subsample=1)"
      ]
     },
     "execution_count": 35,
     "metadata": {},
     "output_type": "execute_result"
    }
   ],
   "source": [
    "clf.fit(X_train, y_train)"
   ]
  },
  {
   "cell_type": "code",
   "execution_count": 36,
   "metadata": {},
   "outputs": [],
   "source": [
    "clf_y_predict = clf.predict(X_test)"
   ]
  },
  {
   "cell_type": "code",
   "execution_count": 37,
   "metadata": {},
   "outputs": [
    {
     "name": "stdout",
     "output_type": "stream",
     "text": [
      "124.31791745421913\n"
     ]
    }
   ],
   "source": [
    "from sklearn import metrics\n",
    "import numpy as np\n",
    "\n",
    "# Calculating \"Mean Square Error\" (MSE):\n",
    "mse = metrics.mean_squared_error(y_test, clf_y_predict)\n",
    "\n",
    "# Using numpy sqrt function to take the square root and calculate \"Root Mean Square Error\" (RMSE)\n",
    "rmse = np.sqrt(mse)\n",
    "\n",
    "print(rmse)"
   ]
  },
  {
   "cell_type": "markdown",
   "metadata": {},
   "source": [
    "Now we will do Cross Validation"
   ]
  },
  {
   "cell_type": "code",
   "execution_count": 38,
   "metadata": {},
   "outputs": [],
   "source": [
    "from sklearn.model_selection import cross_val_score"
   ]
  },
  {
   "cell_type": "markdown",
   "metadata": {},
   "source": [
    "Cross Validation for KNN Regressor"
   ]
  },
  {
   "cell_type": "code",
   "execution_count": 39,
   "metadata": {},
   "outputs": [
    {
     "name": "stdout",
     "output_type": "stream",
     "text": [
      "[123.06619241 124.43370162 122.14668303 130.2617444  120.74811021\n",
      " 124.55824745 123.43204971 123.17022185 121.63141704 123.91990033]\n",
      "\n",
      "\n",
      "123.73682680498514\n"
     ]
    }
   ],
   "source": [
    "cv_k = cross_val_score(knn, X_train, y_train, cv = 10, scoring = 'neg_mean_squared_error')\n",
    "\n",
    "cv_k_pos = - cv_k\n",
    "\n",
    "rmse_cv_k = np.sqrt(cv_k_pos)\n",
    "\n",
    "print(rmse_cv_k)\n",
    "\n",
    "cv_k_mean = rmse_cv_k.mean()\n",
    "\n",
    "\n",
    "print(\"\\n\")\n",
    "print(cv_k_mean)"
   ]
  },
  {
   "cell_type": "markdown",
   "metadata": {},
   "source": [
    "Cross Validation for XG Boost"
   ]
  },
  {
   "cell_type": "code",
   "execution_count": 40,
   "metadata": {},
   "outputs": [
    {
     "name": "stdout",
     "output_type": "stream",
     "text": [
      "[123.13463059 121.63879001 118.5257519  128.22671995 119.39625766\n",
      " 120.96277781 122.91820266 120.80041207 123.83284492 121.15473277]\n",
      "\n",
      "\n",
      "122.05911203438066\n"
     ]
    }
   ],
   "source": [
    "cv_xgb = cross_val_score(clf, X_train, y_train, cv = 10, scoring = 'neg_mean_squared_error')\n",
    "\n",
    "cv_xgb_pos = - cv_xgb\n",
    "\n",
    "rmse_cv_xgb = np.sqrt(cv_xgb_pos)\n",
    "\n",
    "print(rmse_cv_xgb)\n",
    "\n",
    "cv_xgb_mean = rmse_cv_xgb.mean()\n",
    "\n",
    "\n",
    "print(\"\\n\")\n",
    "print(cv_xgb_mean)"
   ]
  },
  {
   "cell_type": "markdown",
   "metadata": {},
   "source": [
    "Will now perform PCA"
   ]
  },
  {
   "cell_type": "code",
   "execution_count": 41,
   "metadata": {},
   "outputs": [],
   "source": [
    "from sklearn.preprocessing import StandardScaler"
   ]
  },
  {
   "cell_type": "code",
   "execution_count": 42,
   "metadata": {},
   "outputs": [],
   "source": [
    "X_train, X_test, y_train, y_test = train_test_split(X_ohe, y, test_size=0.25, random_state=3)\n",
    "\n",
    "scaler = StandardScaler().fit(X_train)\n",
    "\n",
    "X_train_scaled = pd.DataFrame(scaler.transform(X_train), index=X_train.index.values, columns=X_train.columns.values)\n",
    "\n",
    "X_test_scaled = pd.DataFrame(scaler.transform(X_test), index=X_test.index.values, columns=X_test.columns.values)\n"
   ]
  },
  {
   "cell_type": "code",
   "execution_count": 43,
   "metadata": {},
   "outputs": [],
   "source": [
    "from sklearn.decomposition import PCA"
   ]
  },
  {
   "cell_type": "code",
   "execution_count": 44,
   "metadata": {},
   "outputs": [],
   "source": [
    "pca = PCA()\n",
    "\n",
    "pca.fit(X_train)\n",
    "\n",
    "cpts = pd.DataFrame(pca.transform(X_train)) #new data frame\n",
    "\n",
    "x_axis = np.arange(1, pca.n_components_+1) #new columns\n",
    "\n",
    "pca_scaled = PCA()\n",
    "\n",
    "pca_scaled.fit(X_train_scaled)\n",
    "\n",
    "cpts_scaled = pd.DataFrame(pca.transform(X_train_scaled))"
   ]
  },
  {
   "cell_type": "code",
   "execution_count": 45,
   "metadata": {},
   "outputs": [],
   "source": [
    "knn_ada = neighbors.KNeighborsRegressor(n_neighbors = 8)\n",
    "\n",
    "knn_ada.fit(X_train_scaled, y_train)\n",
    "\n",
    "y_predict = knn.predict(X_test)\n",
    "\n"
   ]
  },
  {
   "cell_type": "markdown",
   "metadata": {},
   "source": [
    "Will now perform ADA Boost Algorithm"
   ]
  },
  {
   "cell_type": "code",
   "execution_count": 46,
   "metadata": {},
   "outputs": [],
   "source": [
    "from sklearn.ensemble import AdaBoostRegressor"
   ]
  },
  {
   "cell_type": "code",
   "execution_count": 47,
   "metadata": {},
   "outputs": [
    {
     "name": "stdout",
     "output_type": "stream",
     "text": [
      "[-20210.4468138  -19744.45520961 -16357.5747399  -21221.67732558\n",
      " -21984.0630553  -21154.93018536 -19591.93820849 -17442.68914675\n",
      " -19954.50335095 -19843.25643382]\n",
      "[20210.4468138  19744.45520961 16357.5747399  21221.67732558\n",
      " 21984.0630553  21154.93018536 19591.93820849 17442.68914675\n",
      " 19954.50335095 19843.25643382]\n",
      "[142.16345105 140.51496436 127.89673467 145.67661901 148.27023658\n",
      " 145.44734506 139.97120493 132.07077325 141.26040971 140.86609398]\n",
      "140.41378325969782\n"
     ]
    }
   ],
   "source": [
    "knn_ada = neighbors.KNeighborsRegressor(n_neighbors = 8)\n",
    "\n",
    "knn_ada.fit(X_train_scaled, y_train)\n",
    "\n",
    "ada_boost = AdaBoostRegressor(knn_ada)\n",
    "mse_ada = cross_val_score(ada_boost, X_train, y_train, cv=10, scoring='neg_mean_squared_error')\n",
    "print(mse_ada)\n",
    "\n",
    "mse_ada_positive = - mse_ada\n",
    "print(mse_ada_positive)\n",
    " \n",
    "rmse_ada = np.sqrt(mse_ada_positive)\n",
    "print(rmse_ada)\n",
    "\n",
    "accuracy_cv_ada = rmse_ada.mean()\n",
    "print(accuracy_cv_ada)"
   ]
  },
  {
   "cell_type": "code",
   "execution_count": null,
   "metadata": {},
   "outputs": [],
   "source": []
  }
 ],
 "metadata": {
  "kernelspec": {
   "display_name": "Python 3",
   "language": "python",
   "name": "python3"
  },
  "language_info": {
   "codemirror_mode": {
    "name": "ipython",
    "version": 3
   },
   "file_extension": ".py",
   "mimetype": "text/x-python",
   "name": "python",
   "nbconvert_exporter": "python",
   "pygments_lexer": "ipython3",
   "version": "3.6.5"
  }
 },
 "nbformat": 4,
 "nbformat_minor": 2
}
